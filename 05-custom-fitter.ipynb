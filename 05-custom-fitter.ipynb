{
 "cells": [
  {
   "cell_type": "markdown",
   "metadata": {},
   "source": [
    "# Implementing a custom fitter\n",
    "\n",
    "For when fit_lc() won't cut it."
   ]
  },
  {
   "cell_type": "code",
   "execution_count": null,
   "metadata": {
    "collapsed": true
   },
   "outputs": [],
   "source": [
    "from __future__ import print_function\n",
    "\n",
    "import os\n",
    "\n",
    "import numpy as np\n",
    "import sncosmo\n",
    "import matplotlib as mpl\n",
    "\n",
    "%matplotlib inline\n",
    "\n",
    "mpl.rc('savefig', dpi=110.)"
   ]
  },
  {
   "cell_type": "code",
   "execution_count": null,
   "metadata": {
    "collapsed": true
   },
   "outputs": [],
   "source": [
    "# we're going to use an optimizer from scipy\n",
    "from scipy.optimize import fmin_l_bfgs_b"
   ]
  },
  {
   "cell_type": "code",
   "execution_count": null,
   "metadata": {
    "collapsed": false
   },
   "outputs": [],
   "source": [
    "model = sncosmo.Model(source='salt2')\n",
    "data = sncosmo.read_lc('data/lc-SDSS19230.list', format='salt2')\n",
    "print(data)"
   ]
  },
  {
   "cell_type": "code",
   "execution_count": null,
   "metadata": {
    "collapsed": false
   },
   "outputs": [],
   "source": [
    "model.set(z=data.meta['Z_HELIO'])"
   ]
  },
  {
   "cell_type": "code",
   "execution_count": null,
   "metadata": {
    "collapsed": true
   },
   "outputs": [],
   "source": [
    "# Define an objective function that we will pass to the minimizer.\n",
    "# The function arguments must comply with the expectations of the specfic\n",
    "# minimizer you are using.\n",
    "\n",
    "def objective(parameters, model, data):\n",
    "    model.parameters[1:5] = parameters\n",
    "    \n",
    "    # evaluate model fluxes at times/bandpasses of data\n",
    "    model_flux = model.bandflux(data['Filter'], data['Date'],\n",
    "                                zp=data['ZP'], zpsys=data['MagSys'])\n",
    "\n",
    "    # calculate and return chi^2\n",
    "    return np.sum(((data['Flux'] - model_flux) / data['Fluxerr'])**2)"
   ]
  },
  {
   "cell_type": "code",
   "execution_count": null,
   "metadata": {
    "collapsed": false
   },
   "outputs": [],
   "source": [
    "# starting parameter values in same order as `model.param_names`:\n",
    "start_parameters = [54400., 1e-5, 0., 0.]  # t0, x0, x1, c\n",
    "\n",
    "# parameter bounds in same order as `model.param_names`:\n",
    "bounds = [(54356., 54433.), (None, None), (-3., 3), (-0.3, 0.3)]\n",
    "\n",
    "parameters, val, info = fmin_l_bfgs_b(objective, start_parameters, args=(model, data),\n",
    "                                      bounds=bounds, approx_grad=True)"
   ]
  },
  {
   "cell_type": "code",
   "execution_count": null,
   "metadata": {
    "collapsed": false
   },
   "outputs": [],
   "source": [
    "print(parameters)"
   ]
  },
  {
   "cell_type": "code",
   "execution_count": null,
   "metadata": {
    "collapsed": false
   },
   "outputs": [],
   "source": [
    "print(val)"
   ]
  },
  {
   "cell_type": "code",
   "execution_count": null,
   "metadata": {
    "collapsed": false
   },
   "outputs": [],
   "source": [
    "print(info)"
   ]
  },
  {
   "cell_type": "code",
   "execution_count": null,
   "metadata": {
    "collapsed": false
   },
   "outputs": [],
   "source": [
    "# plot it\n",
    "sncosmo.plot_lc(data, model);"
   ]
  },
  {
   "cell_type": "code",
   "execution_count": null,
   "metadata": {
    "collapsed": true
   },
   "outputs": [],
   "source": []
  }
 ],
 "metadata": {
  "kernelspec": {
   "display_name": "Python 3",
   "language": "python",
   "name": "python3"
  },
  "language_info": {
   "codemirror_mode": {
    "name": "ipython",
    "version": 3
   },
   "file_extension": ".py",
   "mimetype": "text/x-python",
   "name": "python",
   "nbconvert_exporter": "python",
   "pygments_lexer": "ipython3",
   "version": "3.5.1"
  }
 },
 "nbformat": 4,
 "nbformat_minor": 0
}
