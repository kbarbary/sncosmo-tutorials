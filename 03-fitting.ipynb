{
 "cells": [
  {
   "cell_type": "code",
   "execution_count": 5,
   "metadata": {
    "collapsed": false
   },
   "outputs": [],
   "source": [
    "import numpy as np\n",
    "import sncosmo\n",
    "\n",
    "%matplotlib inline"
   ]
  },
  {
   "cell_type": "markdown",
   "metadata": {},
   "source": [
    "Load some example data:"
   ]
  },
  {
   "cell_type": "code",
   "execution_count": 2,
   "metadata": {
    "collapsed": false
   },
   "outputs": [],
   "source": [
    "data = sncosmo.load_example_data()"
   ]
  },
  {
   "cell_type": "markdown",
   "metadata": {},
   "source": [
    "`data` is an astropy Table:"
   ]
  },
  {
   "cell_type": "code",
   "execution_count": 3,
   "metadata": {
    "collapsed": false
   },
   "outputs": [
    {
     "name": "stdout",
     "output_type": "stream",
     "text": [
      "     time      band       flux         fluxerr      zp  zpsys\n",
      "------------- ----- --------------- -------------- ---- -----\n",
      "      55070.0 sdssg   0.36351153597 0.672843847541 25.0    ab\n",
      "55072.0512821 sdssr -0.200801295864 0.672843847541 25.0    ab\n",
      "55074.1025641 sdssi  0.307494232981 0.672843847541 25.0    ab\n",
      "55076.1538462 sdssz   1.08776103656 0.672843847541 25.0    ab\n",
      "55078.2051282 sdssg  -0.43667895645 0.672843847541 25.0    ab\n",
      "55080.2564103 sdssr   1.09780966779 0.672843847541 25.0    ab\n",
      "55082.3076923 sdssi    3.7562685627 0.672843847541 25.0    ab\n",
      "55084.3589744 sdssz   5.34858894966 0.672843847541 25.0    ab\n",
      "55086.4102564 sdssg   2.82614187269 0.672843847541 25.0    ab\n",
      "55088.4615385 sdssr   7.56547045054 0.672843847541 25.0    ab\n",
      "          ...   ...             ...            ...  ...   ...\n",
      "55129.4871795 sdssr    2.6597485586 0.672843847541 25.0    ab\n",
      "55131.5384615 sdssi   3.99520404021 0.672843847541 25.0    ab\n",
      "55133.5897436 sdssz   5.73989458094 0.672843847541 25.0    ab\n",
      "55135.6410256 sdssg  0.330702283107 0.672843847541 25.0    ab\n",
      "55137.6923077 sdssr  0.565286726579 0.672843847541 25.0    ab\n",
      "55139.7435897 sdssi   3.04318346795 0.672843847541 25.0    ab\n",
      "55141.7948718 sdssz   5.62692686384 0.672843847541 25.0    ab\n",
      "55143.8461538 sdssg -0.722654789013 0.672843847541 25.0    ab\n",
      "55145.8974359 sdssr   1.12091764262 0.672843847541 25.0    ab\n",
      "55147.9487179 sdssi    2.1246695264 0.672843847541 25.0    ab\n",
      "      55150.0 sdssz    5.3482175645 0.672843847541 25.0    ab\n",
      "Length = 40 rows\n"
     ]
    }
   ],
   "source": [
    "print(data)"
   ]
  },
  {
   "cell_type": "markdown",
   "metadata": {},
   "source": [
    "Plot the data:"
   ]
  },
  {
   "cell_type": "code",
   "execution_count": 11,
   "metadata": {
    "collapsed": false
   },
   "outputs": [
    {
     "data": {
      "image/png": "[encoded data removed]",
      "text/plain": [
       "<matplotlib.figure.Figure at 0x7f6b12817d30>"
      ]
     },
     "metadata": {},
     "output_type": "display_data"
    }
   ],
   "source": [
    "sncosmo.plot_lc(data, xfigsize=10.);"
   ]
  },
  {
   "cell_type": "code",
   "execution_count": null,
   "metadata": {
    "collapsed": true
   },
   "outputs": [],
   "source": [
    "# get a model and set the redshift to a \"known\" value\n",
    "# (suppose we have a spectroscopic redshift)\n",
    "model = sncosmo.Model('salt2')\n",
    "model.set(z=0.5)"
   ]
  },
  {
   "cell_type": "code",
   "execution_count": null,
   "metadata": {
    "collapsed": false
   },
   "outputs": [],
   "source": [
    "# fit the model to the data, varying 4 parameters\n",
    "res, fitted_model = sncosmo.fit_lc(data, model, ['x0', 'x1', 'c', 't0'])"
   ]
  },
  {
   "cell_type": "markdown",
   "metadata": {},
   "source": [
    "The main result `res` is basically a dictionary, but it also has attribute access:"
   ]
  },
  {
   "cell_type": "code",
   "execution_count": null,
   "metadata": {
    "collapsed": false
   },
   "outputs": [],
   "source": [
    "print(res.keys())"
   ]
  },
  {
   "cell_type": "code",
   "execution_count": null,
   "metadata": {
    "collapsed": false
   },
   "outputs": [],
   "source": [
    "print(res.ncall)  # number of function calls\n",
    "print(res.parameters)  # best fit values\n",
    "print(res.errors)  # 1-sigma uncertainty"
   ]
  },
  {
   "cell_type": "markdown",
   "metadata": {},
   "source": [
    "To plot the data along with the best-fit model, set the model parameters to the best-fit values and plot."
   ]
  },
  {
   "cell_type": "code",
   "execution_count": 12,
   "metadata": {
    "collapsed": false
   },
   "outputs": [
    {
     "ename": "NameError",
     "evalue": "name 'fitted_model' is not defined",
     "output_type": "error",
     "traceback": [
      "\u001b[1;31m---------------------------------------------------------------------------\u001b[0m",
      "\u001b[1;31mNameError\u001b[0m                                 Traceback (most recent call last)",
      "\u001b[1;32m<ipython-input-12-0419d57a6cde>\u001b[0m in \u001b[0;36m<module>\u001b[1;34m()\u001b[0m\n\u001b[1;32m----> 1\u001b[1;33m \u001b[0msncosmo\u001b[0m\u001b[1;33m.\u001b[0m\u001b[0mplot_lc\u001b[0m\u001b[1;33m(\u001b[0m\u001b[0mdata\u001b[0m\u001b[1;33m,\u001b[0m \u001b[0mmodel\u001b[0m\u001b[1;33m=\u001b[0m\u001b[0mfitted_model\u001b[0m\u001b[1;33m,\u001b[0m \u001b[0mxfigsize\u001b[0m\u001b[1;33m=\u001b[0m\u001b[1;36m10\u001b[0m\u001b[1;33m)\u001b[0m\u001b[1;33m;\u001b[0m\u001b[1;33m\u001b[0m\u001b[0m\n\u001b[0m",
      "\u001b[1;31mNameError\u001b[0m: name 'fitted_model' is not defined"
     ]
    }
   ],
   "source": [
    "sncosmo.plot_lc(data, model=fitted_model, xfigsize=10);"
   ]
  },
  {
   "cell_type": "code",
   "execution_count": null,
   "metadata": {
    "collapsed": true
   },
   "outputs": [],
   "source": []
  }
 ],
 "metadata": {
  "kernelspec": {
   "display_name": "Python 3",
   "language": "python",
   "name": "python3"
  },
  "language_info": {
   "codemirror_mode": {
    "name": "ipython",
    "version": 3
   },
   "file_extension": ".py",
   "mimetype": "text/x-python",
   "name": "python",
   "nbconvert_exporter": "python",
   "pygments_lexer": "ipython3",
   "version": "3.4.3"
  }
 },
 "nbformat": 4,
 "nbformat_minor": 0
}
